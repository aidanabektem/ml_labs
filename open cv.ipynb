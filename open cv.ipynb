{
  "nbformat": 4,
  "nbformat_minor": 0,
  "metadata": {
    "colab": {
      "name": "Untitled0.ipynb",
      "provenance": []
    },
    "kernelspec": {
      "name": "python3",
      "display_name": "Python 3"
    }
  },
  "cells": [
    {
      "cell_type": "code",
      "metadata": {
        "id": "6KRbsumeuBA6",
        "colab_type": "code",
        "colab": {}
      },
      "source": [
        "#Open CV\n",
        "import cv2 as cv\n",
        "import numpy as np\n",
        "from matplotlib import pyplot as plt"
      ],
      "execution_count": 0,
      "outputs": []
    },
    {
      "cell_type": "code",
      "metadata": {
        "id": "oYlBR9bjuXCI",
        "colab_type": "code",
        "colab": {}
      },
      "source": [
        "#Load image and convert to grey.\n",
        "img_path = '/content/TextFill_image5.png'\n",
        "img = cv2.imread(img_path, -1)\n"
      ],
      "execution_count": 0,
      "outputs": []
    },
    {
      "cell_type": "code",
      "metadata": {
        "id": "lglqO8weuc6_",
        "colab_type": "code",
        "outputId": "af4946b3-e802-4137-a7d3-cbb68d03f0f5",
        "colab": {
          "base_uri": "https://localhost:8080/",
          "height": 159
        }
      },
      "source": [
        "plt.imshow(img, interpolation='bicubic')\n",
        "plt.xticks([]), plt.yticks([])\n",
        "plt.show()"
      ],
      "execution_count": 0,
      "outputs": [
        {
          "output_type": "display_data",
          "data": {
            "image/png": "[encoded data removed]",
            "text/plain": [
              "<Figure size 432x288 with 1 Axes>"
            ]
          },
          "metadata": {
            "tags": []
          }
        }
      ]
    },
    {
      "cell_type": "code",
      "metadata": {
        "id": "gXhAv-rhu8Bi",
        "colab_type": "code",
        "outputId": "c91b606d-f879-447a-96ae-11e9ab266021",
        "colab": {
          "base_uri": "https://localhost:8080/",
          "height": 286
        }
      },
      "source": [
        "#Resize image\n",
        "img_resized = cv.resize(img,(400,500))\n",
        "plt.imshow(img_resized, 'gray')"
      ],
      "execution_count": 0,
      "outputs": [
        {
          "output_type": "execute_result",
          "data": {
            "text/plain": [
              "<matplotlib.image.AxesImage at 0x7fc67682d3c8>"
            ]
          },
          "metadata": {
            "tags": []
          },
          "execution_count": 17
        },
        {
          "output_type": "display_data",
          "data": {
            "image/png": "[encoded data removed]",
            "text/plain": [
              "<Figure size 432x288 with 1 Axes>"
            ]
          },
          "metadata": {
            "tags": []
          }
        }
      ]
    },
    {
      "cell_type": "code",
      "metadata": {
        "id": "bf7HbNWcvKar",
        "colab_type": "code",
        "outputId": "705758f8-2ff8-4735-db00-6cf1997eb909",
        "colab": {
          "base_uri": "https://localhost:8080/",
          "height": 193
        }
      },
      "source": [
        "\n",
        "#Rotate image\n",
        "(h, w) = img.shape[:2]\n",
        "# calculate the center of the image\n",
        "center = (w / 2, h / 2)\n",
        " \n",
        "angle_90 = 90\n",
        "angle_180 = 180\n",
        "angle_270 = 270\n",
        " \n",
        "scale = 1.0\n",
        "\n",
        "M = cv.getRotationMatrix2D(center, angle_180, scale)\n",
        "rotated270 = cv.warpAffine(img, M, (w, h))\n",
        "\n",
        "plt.imshow(rotated270, 'gray')"
      ],
      "execution_count": 0,
      "outputs": [
        {
          "output_type": "execute_result",
          "data": {
            "text/plain": [
              "<matplotlib.image.AxesImage at 0x7fc676716d68>"
            ]
          },
          "metadata": {
            "tags": []
          },
          "execution_count": 19
        },
        {
          "output_type": "display_data",
          "data": {
            "image/png": "[encoded data removed]",
            "text/plain": [
              "<Figure size 432x288 with 1 Axes>"
            ]
          },
          "metadata": {
            "tags": []
          }
        }
      ]
    },
    {
      "cell_type": "code",
      "metadata": {
        "id": "R5IWg4yowVIP",
        "colab_type": "code",
        "outputId": "1f8335c4-584d-4232-a63d-cf80f7d29454",
        "colab": {
          "base_uri": "https://localhost:8080/",
          "height": 34
        }
      },
      "source": [
        "#saving \n",
        "cv.imwrite(img_path,rotated270)"
      ],
      "execution_count": 0,
      "outputs": [
        {
          "output_type": "execute_result",
          "data": {
            "text/plain": [
              "True"
            ]
          },
          "metadata": {
            "tags": []
          },
          "execution_count": 21
        }
      ]
    }
  ]
}